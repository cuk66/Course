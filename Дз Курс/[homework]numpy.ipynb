{
  "nbformat": 4,
  "nbformat_minor": 0,
  "metadata": {
    "colab": {
      "provenance": []
    },
    "kernelspec": {
      "display_name": "Python 3",
      "language": "python",
      "name": "python3"
    },
    "language_info": {
      "codemirror_mode": {
        "name": "ipython",
        "version": 3
      },
      "file_extension": ".py",
      "mimetype": "text/x-python",
      "name": "python",
      "nbconvert_exporter": "python",
      "pygments_lexer": "ipython3",
      "version": "3.7.3"
    }
  },
  "cells": [
    {
      "cell_type": "markdown",
      "metadata": {
        "id": "KxIquH6GK7kt"
      },
      "source": [
        "<p style=\"align: center;\"><img align=center src=\"https://s8.hostingkartinok.com/uploads/images/2018/08/308b49fcfbc619d629fe4604bceb67ac.jpg\" width=500 height=450/></p>\n",
        "\n",
        "\n",
        "<h3 style=\"text-align: center;\"><b>Школа глубокого обучения ФПМИ МФТИ, осень 2021</b></h3>\n",
        "\n",
        "## Домашнее задание: библиотека Numpy и линейная алгебра\n"
      ]
    },
    {
      "cell_type": "code",
      "metadata": {
        "id": "YEJ8DQ4QK7kx"
      },
      "source": [
        "import numpy as np\n",
        "import random\n",
        "import scipy.stats as sps"
      ],
      "execution_count": 1,
      "outputs": []
    },
    {
      "cell_type": "markdown",
      "metadata": {
        "id": "hYXhVX0eK7k2"
      },
      "source": [
        "### Задание 1\n",
        "В первой задаче вам предлагается перемножить две квадратные матрицы двумя способами -- без использования пакета ***numpy*** и с ним."
      ]
    },
    {
      "cell_type": "code",
      "metadata": {
        "id": "zJR8EANzK7k3",
        "colab": {
          "base_uri": "https://localhost:8080/"
        },
        "outputId": "7ec55e68-83bb-4185-d3dc-f903fa51cceb"
      },
      "source": [
        "# Для генерации матриц используем фукнцию random -- она используется для генерации случайных объектов\n",
        "# функция sample создает случайную выборку. В качестве аргумента ей передается кортеж (i,j),\n",
        "# здесь i -- число строк, j -- число столбцов.\n",
        "a = np.random.sample((100, 100))\n",
        "b = np.random.sample((100, 100))\n",
        "\n",
        "# Выведите размерность (ранг) каждой матрицы с помощью функции ndim.\n",
        "# Используйте функцию shape, что она вывела?\n",
        "\n",
        "# ========\n",
        "# Ваш код здесь\n",
        "# ========\n",
        "print(a)\n",
        "print(b)"
      ],
      "execution_count": 2,
      "outputs": [
        {
          "output_type": "stream",
          "name": "stdout",
          "text": [
            "[[0.37027391 0.34300782 0.8388346  ... 0.79612561 0.19774542 0.73393608]\n",
            " [0.63096854 0.40756861 0.25967852 ... 0.88753336 0.40482889 0.37428943]\n",
            " [0.13302146 0.03228776 0.92507461 ... 0.3742821  0.561312   0.88186774]\n",
            " ...\n",
            " [0.15864675 0.45144874 0.97240278 ... 0.51800228 0.0918879  0.8942154 ]\n",
            " [0.48062891 0.88764017 0.11516844 ... 0.74321867 0.63510318 0.98544938]\n",
            " [0.57275249 0.08570893 0.64546274 ... 0.91568221 0.50608739 0.17998144]]\n",
            "[[0.90902596 0.62877039 0.08377833 ... 0.87641561 0.308667   0.58189267]\n",
            " [0.39204101 0.34239014 0.43807537 ... 0.83600144 0.16604489 0.9715317 ]\n",
            " [0.14868251 0.51833425 0.26821361 ... 0.57253728 0.90886449 0.86615238]\n",
            " ...\n",
            " [0.09534933 0.51858431 0.5806257  ... 0.60895433 0.33774349 0.76422191]\n",
            " [0.59094881 0.13470946 0.65831032 ... 0.16213532 0.31435204 0.90901069]\n",
            " [0.12582138 0.94090677 0.17320623 ... 0.46821039 0.87135114 0.18295062]]\n"
          ]
        }
      ]
    },
    {
      "cell_type": "code",
      "metadata": {
        "id": "bkWCI4TPK7k8"
      },
      "source": [
        "def mult(a, b):\n",
        "    \"\"\"\n",
        "    a: list of \"size\" lists, each contains \"size\" floats --- первая матрица-аргумент\n",
        "    b: list of \"size\" lists, each contains \"size\" floats --- вторая матрица-аргумент\n",
        "    return c: list of \"size\" lists, each contains \"size\" floats --- матрица, являющаяся результатом умножения матриц a и b\n",
        "\n",
        "    Функция принимает на вход две матрицы: a и b размерностью size x size\n",
        "    Возвращает матрицу их произведения a * b = c\n",
        "\n",
        "    Реализуйте умножение матриц без использования функций из пакета numpy\n",
        "    \"\"\"\n",
        "    n = len(a)\n",
        "    res_matrix = [[0 for i in range(n)] for j in range(n)]\n",
        "\n",
        "    for i in range(n):\n",
        "      for j in range(n):\n",
        "        for z in range(n):\n",
        "            res_matrix[i][j] += (a[i][z] * b[z][j])\n",
        "    return res_matrix"
      ],
      "execution_count": 3,
      "outputs": []
    },
    {
      "cell_type": "code",
      "metadata": {
        "id": "IIgYD1W5K7lB"
      },
      "source": [
        "def np_mult(a, b):\n",
        "    \"\"\"\n",
        "    a: np.array[size, size]             --- первая матрица-аргумент\n",
        "    b: np.array[size, size] --- вторая матрица-аргумент\n",
        "    return c: np.array[size, size]       --- матрица, являющаяся результатом умножения матриц a и b\n",
        "\n",
        "    Функция принимает на вход две матрицы: a и b размерностью size x size\n",
        "    Возвращает матрицу их произведения a * b = c\n",
        "\n",
        "    Реализуйте умножение матриц, используя функции из пакета numpy\n",
        "    \"\"\"\n",
        "    return a.dot(b)"
      ],
      "execution_count": 4,
      "outputs": []
    },
    {
      "cell_type": "code",
      "metadata": {
        "id": "tktkYzUHK7lE",
        "colab": {
          "base_uri": "https://localhost:8080/"
        },
        "outputId": "c3974015-7163-47d0-96a1-ab36405e4fe2"
      },
      "source": [
        "%%time\n",
        "# засечем время работы функции без NumPy\n",
        "M1 = mult(a, b)"
      ],
      "execution_count": 5,
      "outputs": [
        {
          "output_type": "stream",
          "name": "stdout",
          "text": [
            "CPU times: user 725 ms, sys: 0 ns, total: 725 ms\n",
            "Wall time: 729 ms\n"
          ]
        }
      ]
    },
    {
      "cell_type": "code",
      "metadata": {
        "id": "TmD0adgHK7lK",
        "colab": {
          "base_uri": "https://localhost:8080/"
        },
        "outputId": "7b14f13c-634b-43fd-ed57-aac05446c64e"
      },
      "source": [
        "%%time\n",
        "# засечем время работы функции с NumPy\n",
        "M2 = np_mult(a, b)"
      ],
      "execution_count": 6,
      "outputs": [
        {
          "output_type": "stream",
          "name": "stdout",
          "text": [
            "CPU times: user 1.6 ms, sys: 4.13 ms, total: 5.74 ms\n",
            "Wall time: 9.61 ms\n"
          ]
        }
      ]
    },
    {
      "cell_type": "code",
      "metadata": {
        "id": "oftqyANQK7lS"
      },
      "source": [
        "# проверим корректность\n",
        "assert np.allclose(np.array(M1), M2)"
      ],
      "execution_count": 7,
      "outputs": []
    },
    {
      "cell_type": "markdown",
      "metadata": {
        "id": "2itTyTlcaHAu"
      },
      "source": [
        "### Задание 2"
      ]
    },
    {
      "cell_type": "markdown",
      "metadata": {
        "id": "BCemQSq-aEbO"
      },
      "source": [
        "Вам подаются на вход два вектора `a` и `b` в трехмерном пространстве. Заполните их случайными числами. Реализуйте их скалярное произведение с помощью  `NumPy` и без. Засеките время работы, как это показано в заданиях выше."
      ]
    },
    {
      "cell_type": "code",
      "metadata": {
        "id": "lWhr_gPSZ9o_",
        "colab": {
          "base_uri": "https://localhost:8080/"
        },
        "outputId": "df2c6b56-aa66-49ed-a3e5-6d74a427d319"
      },
      "source": [
        "a = np.random.sample((1, 3))\n",
        "a = list(a)[0]\n",
        "b = np.random.sample((1, 3))\n",
        "b = list(b)[0]\n",
        "print(a, b)"
      ],
      "execution_count": 8,
      "outputs": [
        {
          "output_type": "stream",
          "name": "stdout",
          "text": [
            "[0.66082111 0.88852082 0.14404952] [0.37671967 0.98197909 0.51473985]\n"
          ]
        }
      ]
    },
    {
      "cell_type": "code",
      "metadata": {
        "id": "GjlkcHIWZ_ae"
      },
      "source": [
        "def scalar_product(a, b):\n",
        "    \"\"\"\n",
        "    a: np.array[, n] --- первая матрица-аргумент длиной n\n",
        "    b: np.array[, n] --- вторая матрица-аргумент длиной n\n",
        "    return c: float  --- результат скалярного произведения векторов a и b\n",
        "\n",
        "    Функция принимает на вход два вектора длиной n\n",
        "    Возвращает число, равное их скалярному произведению a x b = c\n",
        "\n",
        "    Реализуйте скалярное умножение векторов, не используя функции из пакета numpy\n",
        "\n",
        "    \"\"\"\n",
        "    s = 0\n",
        "    for x, y in zip(a, b):\n",
        "        s += x * y\n",
        "    return s"
      ],
      "execution_count": 13,
      "outputs": []
    },
    {
      "cell_type": "code",
      "metadata": {
        "id": "C2M-OAp5Z_6a"
      },
      "source": [
        "def np_scalar_product(a,b):\n",
        "    \"\"\"\n",
        "    a: np.array[, n] --- первая матрица-аргумент\n",
        "    b: np.array[, n] --- вторая матрица-аргумент\n",
        "    return c: float  --- результат скалярного произведения векторов a и b\n",
        "\n",
        "    Функция принимает на вход два вектора длиной n\n",
        "    Возвращает число, равное их скалярному произведению a x b = c\n",
        "\n",
        "    Реализуйте скалярное умножение векторов, используя функции из пакета numpy\n",
        "    \"\"\"\n",
        "    a = np.array(a)\n",
        "    b = np.array(b)\n",
        "    return a.dot(b)"
      ],
      "execution_count": 14,
      "outputs": []
    },
    {
      "cell_type": "code",
      "metadata": {
        "id": "BOQfYf-2aCQJ",
        "scrolled": true,
        "colab": {
          "base_uri": "https://localhost:8080/"
        },
        "outputId": "a3d3beb8-7364-45f6-f497-a8a44d42b3e6"
      },
      "source": [
        "%time product_1 = scalar_product(a,b)\n",
        "%time product_2 = np_scalar_product(a,b)\n",
        "\n",
        "# проверим корректность:\n",
        "assert np.allclose(product_1, product_2)"
      ],
      "execution_count": 15,
      "outputs": [
        {
          "output_type": "stream",
          "name": "stdout",
          "text": [
            "CPU times: user 26 µs, sys: 4 µs, total: 30 µs\n",
            "Wall time: 34.1 µs\n",
            "CPU times: user 48 µs, sys: 0 ns, total: 48 µs\n",
            "Wall time: 52.2 µs\n"
          ]
        }
      ]
    },
    {
      "cell_type": "markdown",
      "metadata": {
        "id": "NHaHu6q1K7mH"
      },
      "source": [
        "Почему методы ***numpy*** оказываются эффективнее? Что вы можете сказать о скорости вычислений в NumPy?"
      ]
    },
    {
      "cell_type": "markdown",
      "metadata": {
        "id": "PqsTAb1M7TTQ"
      },
      "source": [
        "------------------"
      ]
    },
    {
      "cell_type": "markdown",
      "metadata": {
        "id": "_A3p2s4eK7mI"
      },
      "source": [
        "**Ответ:** Скорость вычислений вектоных и матричных операций в NumPy сильно превосходит скорость вычислений без него, по большей части потому, что функции numpy работаю с массивами данных одного типа (числовыми), это позволяет реализовать встроенные функции numpy на C/C++, что, конечно, делает numpy быстрее (функции, которые вызывает Numpy для работы с числовыми данными, сильно оптимизированы именно под эти задачи, а сам Python просто гоняет интерпретатор по циклу в таких операциях, что является чуть ли не самым большим замедлением в работе интерпретатора)."
      ]
    },
    {
      "cell_type": "markdown",
      "metadata": {
        "id": "mJXeUuznK7lm"
      },
      "source": [
        "### Задание 3\n",
        "Напишите функцию, которая находим сумму четных диагональных элементов квадратной матрицы. Если таких элементов нет, то вывести `0`. Используйте библиотеку Numpy"
      ]
    },
    {
      "cell_type": "code",
      "metadata": {
        "id": "qYNiKbK47TTS"
      },
      "source": [
        "def np_diag_2k(a):\n",
        "    \"\"\"\n",
        "    a: np.array[m, m] --- первая матрица-аргумент\n",
        "    return c: float   --- сумма элементов массива а, принадлежащих диагонали и являющимися четными\n",
        "\n",
        "    Функция принимает на вход квадратную матрицу размерностью m x m и возвращает число,\n",
        "    равное сумме четных диагональных элементов этой квадратной матрицы\n",
        "\n",
        "    В реализации этой функции необходимо использовать функционал пакета numpy\n",
        "\n",
        "    \"\"\"\n",
        "    diag = np.diag(a)\n",
        "    even_diag = diag[diag % 2 == 0]\n",
        "    result = np.sum(even_diag) if len(even_diag) > 0 else 0\n",
        "    return result"
      ],
      "execution_count": 21,
      "outputs": []
    },
    {
      "cell_type": "code",
      "metadata": {
        "id": "BdInn8_j7TTU",
        "colab": {
          "base_uri": "https://localhost:8080/"
        },
        "outputId": "460f4fd2-aff0-43cc-b1ce-79f54b2ed0aa"
      },
      "source": [
        "# зададим некоторую квадратную матрицу\n",
        "a = np.random.randint(1, 10, size=(5, 5))\n",
        "a"
      ],
      "execution_count": 22,
      "outputs": [
        {
          "output_type": "execute_result",
          "data": {
            "text/plain": [
              "array([[2, 5, 1, 2, 4],\n",
              "       [2, 8, 5, 1, 1],\n",
              "       [9, 8, 5, 9, 2],\n",
              "       [6, 2, 3, 4, 7],\n",
              "       [9, 2, 4, 7, 7]])"
            ]
          },
          "metadata": {},
          "execution_count": 22
        }
      ]
    },
    {
      "cell_type": "code",
      "metadata": {
        "id": "ZR97Nt9N7TTW",
        "colab": {
          "base_uri": "https://localhost:8080/"
        },
        "outputId": "7d8e3ed1-abed-41ac-d022-7b70e2f1ad96"
      },
      "source": [
        "%%time\n",
        "# засечем время работы функции с NumPy\n",
        "np_diag_2k(a)"
      ],
      "execution_count": 23,
      "outputs": [
        {
          "output_type": "stream",
          "name": "stdout",
          "text": [
            "CPU times: user 245 µs, sys: 0 ns, total: 245 µs\n",
            "Wall time: 318 µs\n"
          ]
        },
        {
          "output_type": "execute_result",
          "data": {
            "text/plain": [
              "14"
            ]
          },
          "metadata": {},
          "execution_count": 23
        }
      ]
    },
    {
      "cell_type": "markdown",
      "metadata": {
        "id": "cdcRkFzQ7TTY"
      },
      "source": [
        "### Задание 4\n",
        "​\n",
        "На вход дан двумерный массив $X$. Напишите функцию, которая для каждой строчки $(x = (x_1, x_2, \\ldots, x_n)$ массива $X$ строит строчку $s = (s_1, s_2, \\ldots, s_n)$,  где $s_k=x_1+...+x_k$, а затем выдаёт массив из построенных строчек. Используйте библиотеку <code>numpy</code> (вам поможет функция <code>cumsum</code>). Выходом функции должен быть двумерный <code>numpy</code>-массив той же формы, что и $X$.\n",
        "​"
      ]
    },
    {
      "cell_type": "code",
      "metadata": {
        "id": "REgL39ksK7lr"
      },
      "source": [
        "def cumsum(A):\n",
        "    \"\"\"\n",
        "    A: np.array[num_row, num_column]        --- матрица-аргумент\n",
        "    return S: np.array[num_row, num_column] --- выходная матрица кумулятивных сумм\n",
        "\n",
        "    Функция принимает на вход матрицу A размерностью n x m и возвращает\n",
        "    матрицу с той же размерностью n x m, i-ая строчка которой есть последовательность\n",
        "    кумулятивных сумм элементов i-ой строки матрицы A\n",
        "\n",
        "    В реализации этой функции необходимо использовать функционал пакета numpy\n",
        "\n",
        "    \"\"\"\n",
        "    return np.cumsum(A, axis=-1)"
      ],
      "execution_count": 27,
      "outputs": []
    },
    {
      "cell_type": "code",
      "metadata": {
        "id": "HcVN8MagK7lw",
        "colab": {
          "base_uri": "https://localhost:8080/"
        },
        "outputId": "d8d3494b-5147-4abb-bbd9-f432f34b5b43"
      },
      "source": [
        "# зададим некоторую последовательность и проверим ее на вашей функции.\n",
        "A = sps.uniform.rvs(size=10**3)\n",
        "\n",
        "%time S2 = cumsum(A)"
      ],
      "execution_count": 28,
      "outputs": [
        {
          "output_type": "stream",
          "name": "stdout",
          "text": [
            "CPU times: user 62 µs, sys: 0 ns, total: 62 µs\n",
            "Wall time: 66.3 µs\n"
          ]
        }
      ]
    },
    {
      "cell_type": "markdown",
      "metadata": {
        "id": "teVCPWZmK7l5"
      },
      "source": [
        "### Задание 5\n",
        "\n",
        "​\n",
        "Задан двумерный массив $X$. Для каждой строчки массива X необходимо сделать следующее преобразование.\n",
        "\n",
        "Пусть дана строчка x. Необходимо построить новый массив, где все элементы с нечетными индексами требуется заменить на число a (значение по умолчанию a=1). Все элементы с четными индексами нужно возвести в куб. Затем записать элементы в обратном порядке относительно их позиций. В конце требуется слить массив x с преобразованным x и вывести.\n",
        "\n",
        "Напишите функцию, которая выполняет данное преобразование для каждой строчки двумерного массива X. Массив X при этом должен остаться без изменений.\n",
        "\n",
        "Используйте библиотеку numpy.\n",
        "\n",
        "Пример:\n",
        "$X = [[100,200,300,400,500]]$ -> $[[100,a,300,a,500]]$ -> $[[500^3,a,300^3,a,100^3]]$ -> склеиваем -> $[[100,200,300,400,500,500^3,a,300^3,a,100^3]]$\n",
        "\n",
        "​"
      ]
    },
    {
      "cell_type": "code",
      "metadata": {
        "id": "0hmcvfDVK7l-"
      },
      "source": [
        "from copy import copy\n",
        "def np_transformation(X, a=1):\n",
        "    \"\"\"\n",
        "    X: np.array[num_row, num_column]          --- матрица-аргумент\n",
        "    a: float                                  --- значение для преобразования нечетных элементов строк в X\n",
        "    return S: np.array[num_row, num_column*2] --- матрица, где строки являются\n",
        "    сконкатенированными строками изначальной матрицы X со строками, являющимися их преобразованиями\n",
        "\n",
        "    Функция принимает на вход матрицу X размерностью n x m, число a и\n",
        "    возвращает  матрицу с размерностью n x m*2, i-ая строчка которой является склеенной\n",
        "    i-ой строкой X с ее преобразованием ее строки transformation(X[i]), записанном в обратном порядке,\n",
        "    где преобразование для числа k определено как:\n",
        "    transformation(k) = a if ind(k) % 2 == 0 else k**3\n",
        "\n",
        "    В реализации этой функции необходимо использовать функционал пакета numpy\n",
        "\n",
        "    \"\"\"\n",
        "    Y = X.copy()\n",
        "    Y[:, 1::2] = a\n",
        "    Y[:, 0::2] = Y[:,0::2]**3\n",
        "    Y = Y[:, ::-1]\n",
        "    return np.hstack((X, Y))"
      ],
      "execution_count": 29,
      "outputs": []
    },
    {
      "cell_type": "code",
      "metadata": {
        "id": "r2-JLMhxK7mE",
        "scrolled": true,
        "colab": {
          "base_uri": "https://localhost:8080/"
        },
        "outputId": "6ea7b5c0-78c2-4912-8a24-15632b65be3b"
      },
      "source": [
        "X = np.array([[i for i in range(1, 10, 2)]])\n",
        "%time S2 = np_transformation(X, 5)"
      ],
      "execution_count": 30,
      "outputs": [
        {
          "output_type": "stream",
          "name": "stdout",
          "text": [
            "CPU times: user 1.13 ms, sys: 14 µs, total: 1.14 ms\n",
            "Wall time: 1.15 ms\n"
          ]
        }
      ]
    },
    {
      "cell_type": "markdown",
      "metadata": {
        "id": "qa521fce7TTk"
      },
      "source": [
        "### Задание 6\n",
        "Написать функцию для кодирование массива (Run-length encoding). Все подряд идущие повторения элементов функция сжимает в один элемент и считает количество повторений этого элемента. Функция возвращает кортеж из двух векторов одинаковой длины. Первый содержит элементы, а второй — сколько раз их нужно повторить.\n",
        "\n",
        "Пример: encode(np.array([1, 2, 2, 3, 3, 1, 1, 5, 5, 2, 3, 3])) = (np.array[1, 2, 3, 1, 5, 2, 3]), np.array[1, 2, 2, 2, 2, 1, 2])"
      ]
    },
    {
      "cell_type": "code",
      "metadata": {
        "id": "4wD7OSVv7TTl"
      },
      "source": [
        "def np_encode(a):\n",
        "    \"\"\"\n",
        "    a: np.array[, n] --- вектор-аргумент длиной n\n",
        "    return (elems, repetitions): (np.array, np.array) --- выходной кортеж из вектора\n",
        "    элементов и вектора их количеств в подряд идущих повторениях\n",
        "\n",
        "    Функция принимает на вход вектор a длиной n, добавляет в вектор elem сжатые\n",
        "    в один элемент подряд идущие повторения элементов входного вектора a, в вектор\n",
        "    repetitions добавляет длины последовательностей подряд идущих повторений.\n",
        "    Затем функция возвращает кортеж векторов (elems, repetitions).\n",
        "\n",
        "    В реализации этой функции необходимо использовать функционал пакета numpy\n",
        "\n",
        "    \"\"\"\n",
        "    mask = np.concatenate(([True], a[1:] != a[:-1]))\n",
        "\n",
        "    unique_values = a[mask]\n",
        "\n",
        "    counts = np.diff(np.where(np.append(mask, True)))[0]\n",
        "\n",
        "    return unique_values, counts"
      ],
      "execution_count": 31,
      "outputs": []
    },
    {
      "cell_type": "code",
      "metadata": {
        "id": "P7YxojET7TTn",
        "colab": {
          "base_uri": "https://localhost:8080/"
        },
        "outputId": "35a8f4bd-4a2e-473f-ad78-a8aeb7137c24"
      },
      "source": [
        "X = np.array([1, 2, 2, 3, 3, 1, 1, 5, 5, 2, 3, 3])\n",
        "\n",
        "%time x, num = np_encode(X)"
      ],
      "execution_count": 32,
      "outputs": [
        {
          "output_type": "stream",
          "name": "stdout",
          "text": [
            "CPU times: user 1.35 ms, sys: 0 ns, total: 1.35 ms\n",
            "Wall time: 1.73 ms\n"
          ]
        }
      ]
    }
  ]
}