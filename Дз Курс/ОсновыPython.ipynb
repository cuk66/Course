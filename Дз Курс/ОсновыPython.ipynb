{
  "nbformat": 4,
  "nbformat_minor": 0,
  "metadata": {
    "colab": {
      "provenance": []
    },
    "kernelspec": {
      "name": "python3",
      "display_name": "Python 3"
    },
    "language_info": {
      "name": "python"
    }
  },
  "cells": [
    {
      "cell_type": "markdown",
      "source": [
        "Какой результат даст выражение?\n",
        "True + 4.\n",
        "Напишите \"ошибка\" в случае, если код выдаст ошибку. **Ответ:5**\n"
      ],
      "metadata": {
        "id": "TR66sJf64Za-"
      }
    },
    {
      "cell_type": "markdown",
      "source": [
        "Что выведет следующий код:\n",
        "list(range(3))[3].\n",
        "Напишите \"ошибка\" в случае, если код выдаст ошибку. **Ответ:Ошибка**"
      ],
      "metadata": {
        "id": "vL_LxZm84l8-"
      }
    },
    {
      "cell_type": "markdown",
      "source": [
        "Что будет выведено на экран после выполнения данного кода?\n",
        "\n",
        "text = 'hello'\n",
        "\n",
        "print(text[4:100])\n",
        "\n",
        "Напишите \"ошибка\" в случае, если код выдаст ошибку.\n",
        "\n",
        "**Ответ:o**"
      ],
      "metadata": {
        "id": "tozi3f5F4vA6"
      }
    },
    {
      "cell_type": "markdown",
      "source": [
        "Рассмотрим код:\n",
        "\n",
        "def square(x):\n",
        "\n",
        "    return x**2\n",
        "\n",
        "numbers = [1, 2, 3, 4]\n",
        "\n",
        "something = list(map(lambda x: square(x), numbers))\n",
        "\n",
        "print(something[2])\n",
        "\n",
        "Что будет выведено на экран?\n",
        "\n",
        "**Ответ:9**"
      ],
      "metadata": {
        "id": "UERs3cIA44fX"
      }
    },
    {
      "cell_type": "markdown",
      "source": [
        "Дан код:\n",
        "\n",
        "file = open(\"out.txt\", \"w\")\n",
        "\n",
        "for i in range(5):\n",
        "\n",
        "    file.write(str(i))\n",
        "\n",
        "file.close()\n",
        "\n",
        "file = open(\"out.txt\", \"w\")\n",
        "\n",
        "for i in range(5, 10):\n",
        "\n",
        "    file.write(str(i))\n",
        "\n",
        "file.close()\n",
        "\n",
        "Что будет записано в файл?\n",
        "\n",
        "**Ответ:56789**"
      ],
      "metadata": {
        "id": "nTHhisHN5AZT"
      }
    },
    {
      "cell_type": "markdown",
      "source": [
        "**Почти двойной факториал**"
      ],
      "metadata": {
        "id": "6yV1id685J_H"
      }
    },
    {
      "cell_type": "code",
      "source": [
        "def almost_double_factorial(n):\n",
        "    result = 1\n",
        "    for i in range(1, n+1, 2):\n",
        "        result *= i\n",
        "    return result"
      ],
      "metadata": {
        "id": "yT5353MJ5QVq"
      },
      "execution_count": null,
      "outputs": []
    },
    {
      "cell_type": "markdown",
      "source": [
        "**Хитрая сортировка**"
      ],
      "metadata": {
        "id": "w4hA8sw55Tv1"
      }
    },
    {
      "cell_type": "code",
      "source": [
        "#sorted_items = sorted(items, key=lambda x: x[1][-1])"
      ],
      "metadata": {
        "id": "z3zH-lrO5nX-"
      },
      "execution_count": null,
      "outputs": []
    },
    {
      "cell_type": "markdown",
      "source": [
        "**Слайсы**"
      ],
      "metadata": {
        "id": "6FozM5mg5bWg"
      }
    },
    {
      "cell_type": "code",
      "source": [
        "#x[::-2] = [-1, -3, -5]"
      ],
      "metadata": {
        "id": "jCj9scO_5dVN"
      },
      "execution_count": null,
      "outputs": []
    },
    {
      "cell_type": "markdown",
      "source": [
        "**Создание массивов**"
      ],
      "metadata": {
        "id": "kTxjEBoL5fwg"
      }
    },
    {
      "cell_type": "code",
      "source": [
        "def cumsum_and_erase(A, erase=1):\n",
        "    B = []\n",
        "    s = 0\n",
        "    for el in A:\n",
        "        s = s + el\n",
        "        B.append(s)\n",
        "    for el in B:\n",
        "        if el == erase:\n",
        "            B.remove(el)\n",
        "    return B"
      ],
      "metadata": {
        "id": "-R37lyQW5iY9"
      },
      "execution_count": null,
      "outputs": []
    },
    {
      "cell_type": "markdown",
      "source": [
        "**Обработка текста**"
      ],
      "metadata": {
        "id": "Jf4Hg0Kq5qyN"
      }
    },
    {
      "cell_type": "code",
      "source": [
        "def process(sentences):\n",
        "    result = [i for i in [' '.join(word for word in k.split() if word.isalpha()) for k in sentences]]\n",
        "    return result"
      ],
      "metadata": {
        "id": "T-L4vKX85u2f"
      },
      "execution_count": null,
      "outputs": []
    },
    {
      "cell_type": "markdown",
      "source": [
        "**Собственный класс \"Нейрон\"**"
      ],
      "metadata": {
        "id": "rpsRub_85ubg"
      }
    },
    {
      "cell_type": "code",
      "source": [
        "class Neuron:\n",
        "\n",
        "    def __init__(self, w, f = lambda x: x):\n",
        "        self.w = w\n",
        "        self.f = f\n",
        "        self.x = None\n",
        "\n",
        "    def forward(self, x):\n",
        "        self.x = x\n",
        "        sum = 0\n",
        "        for i in range(len(self.w)):\n",
        "            sum += self.x[i] * self.w[i]\n",
        "        return self.f(sum)\n",
        "\n",
        "    def backlog(self):\n",
        "        return self.x"
      ],
      "metadata": {
        "id": "P-cFKclp51C_"
      },
      "execution_count": null,
      "outputs": []
    }
  ]
}